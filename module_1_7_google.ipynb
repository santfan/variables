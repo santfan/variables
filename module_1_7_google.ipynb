{
  "nbformat": 4,
  "nbformat_minor": 0,
  "metadata": {
    "colab": {
      "provenance": [],
      "authorship_tag": "ABX9TyPHUGWjkoiuuc3xvGIiwp/G",
      "include_colab_link": true
    },
    "kernelspec": {
      "name": "python3",
      "display_name": "Python 3"
    },
    "language_info": {
      "name": "python"
    }
  },
  "cells": [
    {
      "cell_type": "markdown",
      "metadata": {
        "id": "view-in-github",
        "colab_type": "text"
      },
      "source": [
        "<a href=\"https://colab.research.google.com/github/santfan/variables/blob/main/module_1_7_google.ipynb\" target=\"_parent\"><img src=\"https://colab.research.google.com/assets/colab-badge.svg\" alt=\"Open In Colab\"/></a>"
      ]
    },
    {
      "cell_type": "code",
      "source": [
        "# Имеем входные данные\n",
        "# Список оценок студентов\n",
        "grades = [[5, 3, 3, 5, 4], [2, 2, 2, 3], [4, 5, 5, 2], [4, 4, 3], [5, 5, 5, 4, 5]]\n",
        "# Множество студентов\n",
        "students = {'Johnny', 'Bilbo', 'Steve', 'Khendrik', 'Aaron'}"
      ],
      "metadata": {
        "id": "v6TFJ0uoWefP"
      },
      "execution_count": 1,
      "outputs": []
    },
    {
      "cell_type": "code",
      "execution_count": 2,
      "metadata": {
        "colab": {
          "base_uri": "https://localhost:8080/"
        },
        "id": "CMovRogXWDQi",
        "outputId": "55611d04-8b80-4992-e968-a5abf99a36a5"
      },
      "outputs": [
        {
          "output_type": "stream",
          "name": "stdout",
          "text": [
            "['Aaron', 'Bilbo', 'Johnny', 'Khendrik', 'Steve']\n"
          ]
        }
      ],
      "source": [
        "# Так как множества являются не упорядоченным преобразуем тип множество в тип список\n",
        "# Так как список оценок представлен в алфавитном порядке отсортируем список стендтов командой sorted()\n",
        "stud_list = sorted(list(students))\n",
        "# Посмотрим результат\n",
        "print(stud_list)"
      ]
    },
    {
      "cell_type": "code",
      "source": [
        "# Создадим пустой словарь\n",
        "stud_dict = {}\n",
        "# Заполним пустой словарь\n",
        "stud_dict.update({stud_list[0]: sum(grades[0]) / len(grades[0]),\n",
        "                 stud_list[1]: sum(grades[1]) / len(grades[1]),\n",
        "                 stud_list[2]: sum(grades[2]) / len(grades[2]),\n",
        "                 stud_list[3]: sum(grades[3]) / len(grades[3]),\n",
        "                 stud_list[4]: sum(grades[4]) / len(grades[4])})"
      ],
      "metadata": {
        "id": "riKM-Y08X_Mv"
      },
      "execution_count": 4,
      "outputs": []
    },
    {
      "cell_type": "code",
      "source": [
        "# Выведим результат\n",
        "print(stud_dict)"
      ],
      "metadata": {
        "colab": {
          "base_uri": "https://localhost:8080/"
        },
        "id": "51FSzOAVYkuV",
        "outputId": "c23f43b8-c957-49d9-b65e-b5bb81725312"
      },
      "execution_count": 5,
      "outputs": [
        {
          "output_type": "stream",
          "name": "stdout",
          "text": [
            "{'Aaron': 4.0, 'Bilbo': 2.25, 'Johnny': 4.0, 'Khendrik': 3.6666666666666665, 'Steve': 4.8}\n"
          ]
        }
      ]
    },
    {
      "cell_type": "code",
      "source": [],
      "metadata": {
        "id": "bB8gdfGTY0RY"
      },
      "execution_count": null,
      "outputs": []
    }
  ]
}