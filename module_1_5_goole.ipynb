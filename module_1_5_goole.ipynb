{
  "nbformat": 4,
  "nbformat_minor": 0,
  "metadata": {
    "colab": {
      "provenance": [],
      "authorship_tag": "ABX9TyMtLQKd7b8UcKx7NtgJSGjN",
      "include_colab_link": true
    },
    "kernelspec": {
      "name": "python3",
      "display_name": "Python 3"
    },
    "language_info": {
      "name": "python"
    }
  },
  "cells": [
    {
      "cell_type": "markdown",
      "metadata": {
        "id": "view-in-github",
        "colab_type": "text"
      },
      "source": [
        "<a href=\"https://colab.research.google.com/github/santfan/variables/blob/main/module_1_5_goole.ipynb\" target=\"_parent\"><img src=\"https://colab.research.google.com/assets/colab-badge.svg\" alt=\"Open In Colab\"/></a>"
      ]
    },
    {
      "cell_type": "code",
      "execution_count": 4,
      "metadata": {
        "colab": {
          "base_uri": "https://localhost:8080/"
        },
        "id": "59AtwiCG1fn4",
        "outputId": "ef9e2142-3a29-47a1-dfd8-635593950dc6"
      },
      "outputs": [
        {
          "output_type": "stream",
          "name": "stdout",
          "text": [
            "(1, 2, 57, 'Leonid', ['python', 'java']) <class 'tuple'>\n",
            "(1, 2, 57, 'Leonid', ['python', 'java']) <class 'tuple'>\n",
            "('раз', 2) <class 'tuple'>\n",
            "('раз', 2) <class 'tuple'>\n"
          ]
        }
      ],
      "source": [
        "# Создадим кортежи разными способами\n",
        "immutable = 1, 2, 57, 'Leonid', ['python', 'java']\n",
        "immutable_1 = (1, 2, 57, 'Leonid', ['python', 'java'])\n",
        "# Преобразование\n",
        "string = 'Изучение Python хлоптоно но интересно'\n",
        "num = ['раз', 2]\n",
        "immutable_2 = tuple(num)\n",
        "immutable_3 = tuple(string)\n",
        "# Выведем на экран\n",
        "print(immutable, type(immutable))\n",
        "print(immutable_1, type(immutable_1))\n",
        "print(immutable_2, type(immutable_2))\n",
        "print(immutable_2, type(immutable_3))"
      ]
    },
    {
      "cell_type": "code",
      "source": [
        "# Попробуем изменить элемент кортежа\n",
        "# Обратимся к элементу кортежа с индеком 2 и изменим его\n",
        "immutable[2] = 300  # было значение 57\n",
        "# выведем изменный кортеж\n",
        "print(immutable)"
      ],
      "metadata": {
        "colab": {
          "base_uri": "https://localhost:8080/",
          "height": 211
        },
        "id": "G_I-Eq546ZHs",
        "outputId": "7f0974a0-00c5-47b7-99bb-9f0e0d6b1579"
      },
      "execution_count": 5,
      "outputs": [
        {
          "output_type": "error",
          "ename": "TypeError",
          "evalue": "'tuple' object does not support item assignment",
          "traceback": [
            "\u001b[0;31m---------------------------------------------------------------------------\u001b[0m",
            "\u001b[0;31mTypeError\u001b[0m                                 Traceback (most recent call last)",
            "\u001b[0;32m<ipython-input-5-bf50819da05c>\u001b[0m in \u001b[0;36m<cell line: 3>\u001b[0;34m()\u001b[0m\n\u001b[1;32m      1\u001b[0m \u001b[0;31m# Попробуем изменить элемент кортежа\u001b[0m\u001b[0;34m\u001b[0m\u001b[0;34m\u001b[0m\u001b[0m\n\u001b[1;32m      2\u001b[0m \u001b[0;31m# Обратимся к элементу кортежа с индеком 2 и изменим его\u001b[0m\u001b[0;34m\u001b[0m\u001b[0;34m\u001b[0m\u001b[0m\n\u001b[0;32m----> 3\u001b[0;31m \u001b[0mimmutable\u001b[0m\u001b[0;34m[\u001b[0m\u001b[0;36m2\u001b[0m\u001b[0;34m]\u001b[0m \u001b[0;34m=\u001b[0m \u001b[0;36m300\u001b[0m  \u001b[0;31m# было значение 57\u001b[0m\u001b[0;34m\u001b[0m\u001b[0;34m\u001b[0m\u001b[0m\n\u001b[0m\u001b[1;32m      4\u001b[0m \u001b[0;31m# выведем изменный кортеж\u001b[0m\u001b[0;34m\u001b[0m\u001b[0;34m\u001b[0m\u001b[0m\n\u001b[1;32m      5\u001b[0m \u001b[0mprint\u001b[0m\u001b[0;34m(\u001b[0m\u001b[0mimmutable\u001b[0m\u001b[0;34m)\u001b[0m\u001b[0;34m\u001b[0m\u001b[0;34m\u001b[0m\u001b[0m\n",
            "\u001b[0;31mTypeError\u001b[0m: 'tuple' object does not support item assignment"
          ]
        }
      ]
    },
    {
      "cell_type": "code",
      "source": [
        "# Выведет ошибку 'tuple' object does not support item assignment короче нельзя\n",
        "# но если элемент кортежа сам по себе изменяем то\n",
        "# например элемент с индесом 4 сам по себе список - изменяем. Попробуем\n",
        "immutable[4][1] = 'Cи' # Было 'Java'\n",
        "# Вывод на экран\n",
        "print(immutable)"
      ],
      "metadata": {
        "colab": {
          "base_uri": "https://localhost:8080/"
        },
        "id": "YBA4mtIE7-4u",
        "outputId": "45de6aba-4b20-4a61-c267-e0955e50a487"
      },
      "execution_count": 6,
      "outputs": [
        {
          "output_type": "stream",
          "name": "stdout",
          "text": [
            "(1, 2, 57, 'Leonid', ['python', 'Cи'])\n"
          ]
        }
      ]
    },
    {
      "cell_type": "code",
      "source": [
        "# Зменения произошли\n",
        "# Теперь со списком создадим\n",
        "mutable = ['три', 5, 24]\n",
        "# Преобразование\n",
        "string = 'три', 5, 24\n",
        "mutable_1 = list(string)\n",
        "# Вывод на экран\n",
        "print(mutable, type(mutable))\n",
        "print(mutable_1, type(mutable_1))"
      ],
      "metadata": {
        "colab": {
          "base_uri": "https://localhost:8080/"
        },
        "id": "8ayN-HxG-YNQ",
        "outputId": "de124609-9528-4849-9bb0-aba9c878e6ba"
      },
      "execution_count": 8,
      "outputs": [
        {
          "output_type": "stream",
          "name": "stdout",
          "text": [
            "['три', 5, 24] <class 'list'>\n",
            "['три', 5, 24] <class 'list'>\n"
          ]
        }
      ]
    },
    {
      "cell_type": "code",
      "source": [
        "# изменения списков возможна\n",
        "mutable[2] = 17 # Было 24\n",
        "# Вывод на экран\n",
        "print(mutable, type(mutable))"
      ],
      "metadata": {
        "colab": {
          "base_uri": "https://localhost:8080/"
        },
        "id": "w6jmAOh8_xPf",
        "outputId": "0a332130-1a10-4160-af4e-d214f3fdd6a7"
      },
      "execution_count": 9,
      "outputs": [
        {
          "output_type": "stream",
          "name": "stdout",
          "text": [
            "['три', 5, 17] <class 'list'>\n"
          ]
        }
      ]
    },
    {
      "cell_type": "code",
      "source": [],
      "metadata": {
        "id": "sFrKyASQAvNu"
      },
      "execution_count": null,
      "outputs": []
    }
  ]
}