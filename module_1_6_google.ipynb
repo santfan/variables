{
  "nbformat": 4,
  "nbformat_minor": 0,
  "metadata": {
    "colab": {
      "provenance": [],
      "authorship_tag": "ABX9TyNl9D56aPK4tRJb67Tfo1gh",
      "include_colab_link": true
    },
    "kernelspec": {
      "name": "python3",
      "display_name": "Python 3"
    },
    "language_info": {
      "name": "python"
    }
  },
  "cells": [
    {
      "cell_type": "markdown",
      "metadata": {
        "id": "view-in-github",
        "colab_type": "text"
      },
      "source": [
        "<a href=\"https://colab.research.google.com/github/santfan/variables/blob/main/module_1_6_google.ipynb\" target=\"_parent\"><img src=\"https://colab.research.google.com/assets/colab-badge.svg\" alt=\"Open In Colab\"/></a>"
      ]
    },
    {
      "cell_type": "code",
      "execution_count": 1,
      "metadata": {
        "colab": {
          "base_uri": "https://localhost:8080/"
        },
        "id": "Gn2yu2B3-PE9",
        "outputId": "fbdf0a48-5dfe-406d-a315-20127ae6606d"
      },
      "outputs": [
        {
          "output_type": "stream",
          "name": "stdout",
          "text": [
            "{'Леонид': 1961, 'Надя': 1960, 'Коля': 1968}\n"
          ]
        }
      ],
      "source": [
        "# Создать переменную my_dict и присвоить переменной словарь из нескольких пар ключ-значение.\n",
        "my_dict = {'Леонид': 1961, 'Надя': 1960, 'Коля': 1968}\n",
        "# Выведим словарь на экран\n",
        "print(my_dict)"
      ]
    },
    {
      "cell_type": "code",
      "source": [
        "# Выведим значения словаря по ключу\n",
        "print(my_dict['Коля'])"
      ],
      "metadata": {
        "colab": {
          "base_uri": "https://localhost:8080/"
        },
        "id": "2tvUcFNv-d_i",
        "outputId": "7b131d53-92f4-44fc-ee07-c8390f8e8b63"
      },
      "execution_count": 2,
      "outputs": [
        {
          "output_type": "stream",
          "name": "stdout",
          "text": [
            "1968\n"
          ]
        }
      ]
    },
    {
      "cell_type": "code",
      "source": [
        "# Попробуем вывести на экран значение словаря по НЕСУШЕСТВУЮШЕМУ ключу\n",
        "print(my_dict['Александра'])"
      ],
      "metadata": {
        "colab": {
          "base_uri": "https://localhost:8080/",
          "height": 159
        },
        "id": "YZcOc7zF-liy",
        "outputId": "161b1c75-dd80-4a23-d61e-269e79a124d3"
      },
      "execution_count": 3,
      "outputs": [
        {
          "output_type": "error",
          "ename": "KeyError",
          "evalue": "'Александра'",
          "traceback": [
            "\u001b[0;31m---------------------------------------------------------------------------\u001b[0m",
            "\u001b[0;31mKeyError\u001b[0m                                  Traceback (most recent call last)",
            "\u001b[0;32m<ipython-input-3-d7786af2418e>\u001b[0m in \u001b[0;36m<cell line: 2>\u001b[0;34m()\u001b[0m\n\u001b[1;32m      1\u001b[0m \u001b[0;31m# Попробуем вывести на экран значение словаря по НЕСУШЕСТВУЮШЕМУ ключу\u001b[0m\u001b[0;34m\u001b[0m\u001b[0;34m\u001b[0m\u001b[0m\n\u001b[0;32m----> 2\u001b[0;31m \u001b[0mprint\u001b[0m\u001b[0;34m(\u001b[0m\u001b[0mmy_dict\u001b[0m\u001b[0;34m[\u001b[0m\u001b[0;34m'Александра'\u001b[0m\u001b[0;34m]\u001b[0m\u001b[0;34m)\u001b[0m\u001b[0;34m\u001b[0m\u001b[0;34m\u001b[0m\u001b[0m\n\u001b[0m",
            "\u001b[0;31mKeyError\u001b[0m: 'Александра'"
          ]
        }
      ]
    },
    {
      "cell_type": "code",
      "source": [
        "# Выдано сообщение ошибка ключа\n",
        "# Попробуем добавить значения ключа прчмо в теле print\n",
        "print(my_dict['Александра'] = 2004)"
      ],
      "metadata": {
        "colab": {
          "base_uri": "https://localhost:8080/",
          "height": 106
        },
        "id": "D7kfzQ0j-p-p",
        "outputId": "8d226b0e-adb2-4286-fe57-9cbb564348a8"
      },
      "execution_count": 4,
      "outputs": [
        {
          "output_type": "error",
          "ename": "SyntaxError",
          "evalue": "expression cannot contain assignment, perhaps you meant \"==\"? (<ipython-input-4-949b8726b056>, line 3)",
          "traceback": [
            "\u001b[0;36m  File \u001b[0;32m\"<ipython-input-4-949b8726b056>\"\u001b[0;36m, line \u001b[0;32m3\u001b[0m\n\u001b[0;31m    print(my_dict['Александра'] = 2004)\u001b[0m\n\u001b[0m          ^\u001b[0m\n\u001b[0;31mSyntaxError\u001b[0m\u001b[0;31m:\u001b[0m expression cannot contain assignment, perhaps you meant \"==\"?\n"
          ]
        }
      ]
    },
    {
      "cell_type": "code",
      "source": [
        "# Выдана ошибка и предлагается использовать вместо оператора \"=\" опреатор \"==\" Попробуем\n",
        "print(my_dict['Александра'] == 2004)"
      ],
      "metadata": {
        "colab": {
          "base_uri": "https://localhost:8080/",
          "height": 159
        },
        "id": "OA8i5xA0-vb6",
        "outputId": "69eac4ff-28d8-4b16-9081-6b358ce0c517"
      },
      "execution_count": 5,
      "outputs": [
        {
          "output_type": "error",
          "ename": "KeyError",
          "evalue": "'Александра'",
          "traceback": [
            "\u001b[0;31m---------------------------------------------------------------------------\u001b[0m",
            "\u001b[0;31mKeyError\u001b[0m                                  Traceback (most recent call last)",
            "\u001b[0;32m<ipython-input-5-9b6b1bd39315>\u001b[0m in \u001b[0;36m<cell line: 2>\u001b[0;34m()\u001b[0m\n\u001b[1;32m      1\u001b[0m \u001b[0;31m# Выдана ошибка и предлагается использовать вместо оператора \"=\" опреатор \"==\" Попробуем\u001b[0m\u001b[0;34m\u001b[0m\u001b[0;34m\u001b[0m\u001b[0m\n\u001b[0;32m----> 2\u001b[0;31m \u001b[0mprint\u001b[0m\u001b[0;34m(\u001b[0m\u001b[0mmy_dict\u001b[0m\u001b[0;34m[\u001b[0m\u001b[0;34m'Александра'\u001b[0m\u001b[0;34m]\u001b[0m \u001b[0;34m==\u001b[0m \u001b[0;36m2004\u001b[0m\u001b[0;34m)\u001b[0m\u001b[0;34m\u001b[0m\u001b[0;34m\u001b[0m\u001b[0m\n\u001b[0m",
            "\u001b[0;31mKeyError\u001b[0m: 'Александра'"
          ]
        }
      ]
    },
    {
      "cell_type": "code",
      "source": [
        "# опять ошибка ключа стало быть необходимо добавить пару ключ -> значение\n",
        "my_dict['Александра'] = 2004\n",
        "# Теперь\n",
        "print(my_dict['Александра'])"
      ],
      "metadata": {
        "colab": {
          "base_uri": "https://localhost:8080/"
        },
        "id": "r6yaz6oh-0ao",
        "outputId": "88e3f0ce-2715-4896-b081-2d92166254d2"
      },
      "execution_count": 6,
      "outputs": [
        {
          "output_type": "stream",
          "name": "stdout",
          "text": [
            "2004\n"
          ]
        }
      ]
    },
    {
      "cell_type": "code",
      "source": [
        "# Значит необходимо прежде чем выводить значение по не существующиму ключу необходимо добавить пару в словарь\n",
        "# Словарь таким образом сейчас имеет вид\n",
        "print(my_dict)"
      ],
      "metadata": {
        "colab": {
          "base_uri": "https://localhost:8080/"
        },
        "id": "RdvtXa_U-5AM",
        "outputId": "0083f0c2-8fc0-4b5e-b216-d6ab17fa4001"
      },
      "execution_count": 7,
      "outputs": [
        {
          "output_type": "stream",
          "name": "stdout",
          "text": [
            "{'Леонид': 1961, 'Надя': 1960, 'Коля': 1968, 'Александра': 2004}\n"
          ]
        }
      ]
    },
    {
      "cell_type": "code",
      "source": [
        "# Добавить несколько пар новых значений в словарь можно командой update. Формат команды следуюший\n",
        "my_dict.update({'Валя': 2006, 'Витя': 2010})\n",
        "# Результат выведим\n",
        "print(my_dict)"
      ],
      "metadata": {
        "colab": {
          "base_uri": "https://localhost:8080/"
        },
        "id": "J5Y5r6Ba-9bS",
        "outputId": "73ed624b-9e79-465e-ba27-f3f8d3ceaf61"
      },
      "execution_count": 8,
      "outputs": [
        {
          "output_type": "stream",
          "name": "stdout",
          "text": [
            "{'Леонид': 1961, 'Надя': 1960, 'Коля': 1968, 'Александра': 2004, 'Валя': 2006, 'Витя': 2010}\n"
          ]
        }
      ]
    },
    {
      "cell_type": "code",
      "source": [
        "# Для удаления по ключу осуществлятся командой del формат команды del my_dict['Леонид']\n",
        "# НО нам по условию необходимо вывести значение удаленной пары для этого используют команду pop()\n",
        "print(my_dict.pop('Леонид'))"
      ],
      "metadata": {
        "colab": {
          "base_uri": "https://localhost:8080/"
        },
        "id": "AyERDIm4_1Wi",
        "outputId": "a3795a70-b326-42fe-e9e6-373fe12ea428"
      },
      "execution_count": 9,
      "outputs": [
        {
          "output_type": "stream",
          "name": "stdout",
          "text": [
            "1961\n"
          ]
        }
      ]
    },
    {
      "cell_type": "code",
      "source": [
        "# Выведено значение соответсвующее удаленному ключу. Посмотрим на измененный словарь\n",
        "print(my_dict)"
      ],
      "metadata": {
        "colab": {
          "base_uri": "https://localhost:8080/"
        },
        "id": "YcWNDQEU_9rA",
        "outputId": "6a842c76-1bae-4829-e8f4-5b0c90dca17c"
      },
      "execution_count": 10,
      "outputs": [
        {
          "output_type": "stream",
          "name": "stdout",
          "text": [
            "{'Надя': 1960, 'Коля': 1968, 'Александра': 2004, 'Валя': 2006, 'Витя': 2010}\n"
          ]
        }
      ]
    },
    {
      "cell_type": "code",
      "source": [
        "# Как видим ключ 'Леонид' и его значение удалено но перед этим мы ввели его на экран.\n",
        "# Также мы можем сохранить это значение в какой либо переменной\n",
        "# Теперь содадим множество из разных типов данных\n",
        "my_set = {1, 2, 2, 3, 3, 4, 3, 'Python', (1, 2, 3)}\n",
        "# На вывод\n",
        "print(my_set)"
      ],
      "metadata": {
        "colab": {
          "base_uri": "https://localhost:8080/"
        },
        "id": "HpxGSdP8AE-a",
        "outputId": "b79b8fe5-1413-4031-b188-09b799afcf25"
      },
      "execution_count": 11,
      "outputs": [
        {
          "output_type": "stream",
          "name": "stdout",
          "text": [
            "{'Python', 1, 2, 3, 4, (1, 2, 3)}\n"
          ]
        }
      ]
    },
    {
      "cell_type": "code",
      "source": [
        "# Как видим повторяюшиеся значения в создаваемом множестве удаляютя так как множество это коллекция УНИКАЛЬНЫХ значений\n",
        "# Существует возможность преобразование списка во множество. Создадим список\n",
        "my_list = [1, 1, 2, 2, 2, 3, 3, 4]\n",
        "my_set_1 = set(my_list)\n",
        "# Выведим на экран\n",
        "print(my_set_1)"
      ],
      "metadata": {
        "colab": {
          "base_uri": "https://localhost:8080/"
        },
        "id": "lmLW1QZRAOiC",
        "outputId": "68ffcb1f-75f8-49d0-b8d6-2701d79cba5d"
      },
      "execution_count": 12,
      "outputs": [
        {
          "output_type": "stream",
          "name": "stdout",
          "text": [
            "{1, 2, 3, 4}\n"
          ]
        }
      ]
    },
    {
      "cell_type": "code",
      "source": [
        "# Как видим сформировалось множество из уникальных значений. То есть повторяющиеся значения не вошли во множество\n",
        "# Для добавления элементов во множество используют команду add\n",
        "my_set.add('Java')\n",
        "my_set.add('C#')\n",
        "print(my_set)"
      ],
      "metadata": {
        "colab": {
          "base_uri": "https://localhost:8080/"
        },
        "id": "oXsUyih7AVoi",
        "outputId": "fe07aaab-cdb3-4c29-9fd0-e95248150c0d"
      },
      "execution_count": 13,
      "outputs": [
        {
          "output_type": "stream",
          "name": "stdout",
          "text": [
            "{'Python', 1, 2, 3, 4, 'Java', (1, 2, 3), 'C#'}\n"
          ]
        }
      ]
    },
    {
      "cell_type": "code",
      "source": [
        "# Как видим во множество добавилось два новых элемента 'Java' и 'C#'\n",
        "# Для удаления элементов из множесвта используют две команды 'discard' и 'remove'.\n",
        "# Команда 'discard' нес ообщает об ошибке при попытке удалить не существующее значение.\n",
        "# Поэтому предпочтительнее использовать команду 'remove'\n",
        "my_set.remove('Python')\n",
        "# Посмотрим на измененное множество\n",
        "print(my_set)"
      ],
      "metadata": {
        "colab": {
          "base_uri": "https://localhost:8080/"
        },
        "id": "4gfPHjA-AaXR",
        "outputId": "af1cd769-727d-4d14-bc40-291fdea69ca6"
      },
      "execution_count": 14,
      "outputs": [
        {
          "output_type": "stream",
          "name": "stdout",
          "text": [
            "{1, 2, 3, 4, 'Java', (1, 2, 3), 'C#'}\n"
          ]
        }
      ]
    },
    {
      "cell_type": "code",
      "source": [
        "# Как видим элемент 'Python' удален из множества"
      ],
      "metadata": {
        "id": "4I41LIzbAqvf"
      },
      "execution_count": 15,
      "outputs": []
    }
  ]
}